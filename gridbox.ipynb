{
  "nbformat": 4,
  "nbformat_minor": 0,
  "metadata": {
    "colab": {
      "provenance": [],
      "authorship_tag": "ABX9TyNPnTjGrzqhbw3j2nWFI8IF",
      "include_colab_link": true
    },
    "kernelspec": {
      "name": "python3",
      "display_name": "Python 3"
    },
    "language_info": {
      "name": "python"
    }
  },
  "cells": [
    {
      "cell_type": "markdown",
      "metadata": {
        "id": "view-in-github",
        "colab_type": "text"
      },
      "source": [
        "<a href=\"https://colab.research.google.com/github/purnawanpp/Rekap-script/blob/main/gridbox.ipynb\" target=\"_parent\"><img src=\"https://colab.research.google.com/assets/colab-badge.svg\" alt=\"Open In Colab\"/></a>"
      ]
    },
    {
      "cell_type": "markdown",
      "source": [
        "**Command to know protein gridbox using biopython**"
      ],
      "metadata": {
        "id": "rLsqAqiO8kEN"
      }
    },
    {
      "cell_type": "code",
      "execution_count": null,
      "metadata": {
        "colab": {
          "base_uri": "https://localhost:8080/"
        },
        "id": "PMO0gC0dovLl",
        "outputId": "c8f8a033-6ed7-40e2-9610-4eb5029e70c0"
      },
      "outputs": [
        {
          "output_type": "stream",
          "name": "stdout",
          "text": [
            "Collecting biopython\n",
            "  Downloading biopython-1.81-cp310-cp310-manylinux_2_17_x86_64.manylinux2014_x86_64.whl (3.1 MB)\n",
            "\u001b[2K     \u001b[90m━━━━━━━━━━━━━━━━━━━━━━━━━━━━━━━━━━━━━━━━\u001b[0m \u001b[32m3.1/3.1 MB\u001b[0m \u001b[31m21.2 MB/s\u001b[0m eta \u001b[36m0:00:00\u001b[0m\n",
            "\u001b[?25hRequirement already satisfied: numpy in /usr/local/lib/python3.10/dist-packages (from biopython) (1.23.5)\n",
            "Installing collected packages: biopython\n",
            "Successfully installed biopython-1.81\n"
          ]
        }
      ],
      "source": [
        "pip install biopython"
      ]
    },
    {
      "cell_type": "code",
      "source": [
        "from Bio.PDB import PDBParser\n",
        "import numpy as np\n",
        "\n",
        "def calculate_gridbox_center(pdb_file):\n",
        "    print(\"Calculating GridBox Center\")\n",
        "\n",
        "    parser = PDBParser()\n",
        "    structure = parser.get_structure(\"ligand\", pdb_file)\n",
        "\n",
        "    model = structure[0]  # Get the first model from the PDB structure\n",
        "    atoms = model.get_atoms()  # Get the list of atoms in the model\n",
        "\n",
        "    coordinates = []\n",
        "\n",
        "    for atom in atoms:\n",
        "        coordinates.append(atom.get_coord())\n",
        "\n",
        "    # Convert list of coordinates to a NumPy array for easier calculations\n",
        "    coordinates_array = np.array(coordinates)\n",
        "\n",
        "    # Calculate center\n",
        "    center = np.mean(coordinates_array, axis=0)\n",
        "\n",
        "    # Calculate distances from center to all atoms and get the maximum distance\n",
        "    distances = np.linalg.norm(coordinates_array - center, axis=1)\n",
        "    max_distance = np.max(distances)\n",
        "\n",
        "    # Save the grid box center coordinates and size to a file named grid.txt in Autodock Vina format\n",
        "    with open(\"grid.txt\", \"w\") as file:\n",
        "        file.write(f\"center_x = {center[0]:.3f}\\n\")\n",
        "        file.write(f\"center_y = {center[1]:.3f}\\n\")\n",
        "        file.write(f\"center_z = {center[2]:.3f}\\n\")\n",
        "        file.write(f\"size_x = {max_distance:.3f}\\n\")\n",
        "        file.write(f\"size_y = {max_distance:.3f}\\n\")\n",
        "        file.write(f\"size_z = {max_distance:.3f}\\n\")\n",
        "\n",
        "    return center, max_distance\n",
        "\n",
        "# Menggunakan fungsi untuk menghitung dan menyimpan hasil ke dalam file\n",
        "calculate_gridbox_center(\"6pib.pdb\")\n"
      ],
      "metadata": {
        "colab": {
          "base_uri": "https://localhost:8080/"
        },
        "id": "mxuopm-Ko5ZL",
        "outputId": "59aed82e-e75c-4d81-ee25-7f8b322f6340"
      },
      "execution_count": null,
      "outputs": [
        {
          "output_type": "stream",
          "name": "stdout",
          "text": [
            "Calculating GridBox Center\n"
          ]
        },
        {
          "output_type": "execute_result",
          "data": {
            "text/plain": [
              "(array([  3.6091044, -40.303173 ,  -3.8851392], dtype=float32), 42.114998)"
            ]
          },
          "metadata": {},
          "execution_count": 12
        }
      ]
    }
  ]
}