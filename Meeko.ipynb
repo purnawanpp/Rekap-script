{
  "nbformat": 4,
  "nbformat_minor": 0,
  "metadata": {
    "colab": {
      "provenance": [],
      "authorship_tag": "ABX9TyP2qMN2+NqTu59nmx2PvKeO",
      "include_colab_link": true
    },
    "kernelspec": {
      "name": "python3",
      "display_name": "Python 3"
    },
    "language_info": {
      "name": "python"
    }
  },
  "cells": [
    {
      "cell_type": "markdown",
      "metadata": {
        "id": "view-in-github",
        "colab_type": "text"
      },
      "source": [
        "<a href=\"https://colab.research.google.com/github/purnawanpp/Rekap-script/blob/main/Meeko.ipynb\" target=\"_parent\"><img src=\"https://colab.research.google.com/assets/colab-badge.svg\" alt=\"Open In Colab\"/></a>"
      ]
    },
    {
      "cell_type": "markdown",
      "source": [
        "**Preparation ligand using Meeko**\n",
        "\n",
        "[Meeko](https://github.com/forlilab/Meeko) is a Python package developed by the Forli group at Scripps Research, specifically designed to streamline the process of preparing molecules for docking simulations with popular software like AutoDock 4 and Vina. It simplifies the preparation of ligands and proteins by offering functionalities to handle various molecular formats, perform necessary modifications, and generate input files required for docking studies."
      ],
      "metadata": {
        "id": "mXdJwqTW7FHZ"
      }
    },
    {
      "cell_type": "code",
      "source": [
        "pip install rdkit-pypi"
      ],
      "metadata": {
        "colab": {
          "base_uri": "https://localhost:8080/"
        },
        "id": "RMlzeiIfelu4",
        "outputId": "59082591-7761-4521-80b9-3878d0c01fd3"
      },
      "execution_count": 5,
      "outputs": [
        {
          "output_type": "stream",
          "name": "stdout",
          "text": [
            "Requirement already satisfied: rdkit-pypi in /usr/local/lib/python3.10/dist-packages (2022.9.5)\n",
            "Requirement already satisfied: numpy in /usr/local/lib/python3.10/dist-packages (from rdkit-pypi) (1.23.5)\n",
            "Requirement already satisfied: Pillow in /usr/local/lib/python3.10/dist-packages (from rdkit-pypi) (9.4.0)\n"
          ]
        }
      ]
    },
    {
      "cell_type": "code",
      "source": [
        "pip install meeko"
      ],
      "metadata": {
        "colab": {
          "base_uri": "https://localhost:8080/"
        },
        "id": "nwj_zs284-GE",
        "outputId": "ca99e5f6-1a12-4e43-968a-213e701fd794"
      },
      "execution_count": 4,
      "outputs": [
        {
          "output_type": "stream",
          "name": "stdout",
          "text": [
            "Collecting meeko\n",
            "  Downloading meeko-0.5.0-py3-none-any.whl (144 kB)\n",
            "\u001b[?25l     \u001b[90m━━━━━━━━━━━━━━━━━━━━━━━━━━━━━━━━━━━━━━━━\u001b[0m \u001b[32m0.0/144.4 kB\u001b[0m \u001b[31m?\u001b[0m eta \u001b[36m-:--:--\u001b[0m\r\u001b[2K     \u001b[91m━━━━━━━━━━━━━━━━━━━━━━━━━\u001b[0m\u001b[91m╸\u001b[0m\u001b[90m━━━━━━━━━━━━━━\u001b[0m \u001b[32m92.2/144.4 kB\u001b[0m \u001b[31m2.7 MB/s\u001b[0m eta \u001b[36m0:00:01\u001b[0m\r\u001b[2K     \u001b[90m━━━━━━━━━━━━━━━━━━━━━━━━━━━━━━━━━━━━━━━━\u001b[0m \u001b[32m144.4/144.4 kB\u001b[0m \u001b[31m2.9 MB/s\u001b[0m eta \u001b[36m0:00:00\u001b[0m\n",
            "\u001b[?25hRequirement already satisfied: numpy>=1.18 in /usr/local/lib/python3.10/dist-packages (from meeko) (1.23.5)\n",
            "Installing collected packages: meeko\n",
            "Successfully installed meeko-0.5.0\n"
          ]
        }
      ]
    },
    {
      "cell_type": "code",
      "source": [
        "!apt install openbabel"
      ],
      "metadata": {
        "colab": {
          "base_uri": "https://localhost:8080/"
        },
        "id": "6Y2p82x_dv_i",
        "outputId": "85999085-0824-4f59-c67e-3a7d81972ec3"
      },
      "execution_count": 6,
      "outputs": [
        {
          "output_type": "stream",
          "name": "stdout",
          "text": [
            "Reading package lists... Done\n",
            "Building dependency tree... Done\n",
            "Reading state information... Done\n",
            "The following additional packages will be installed:\n",
            "  libinchi1 libmaeparser1 libopenbabel7\n",
            "The following NEW packages will be installed:\n",
            "  libinchi1 libmaeparser1 libopenbabel7 openbabel\n",
            "0 upgraded, 4 newly installed, 0 to remove and 24 not upgraded.\n",
            "Need to get 3,903 kB of archives.\n",
            "After this operation, 16.9 MB of additional disk space will be used.\n",
            "Get:1 http://archive.ubuntu.com/ubuntu jammy/universe amd64 libinchi1 amd64 1.03+dfsg-4 [455 kB]\n",
            "Get:2 http://archive.ubuntu.com/ubuntu jammy/universe amd64 libmaeparser1 amd64 1.2.4-1build1 [88.2 kB]\n",
            "Get:3 http://archive.ubuntu.com/ubuntu jammy/universe amd64 libopenbabel7 amd64 3.1.1+dfsg-6ubuntu5 [3,231 kB]\n",
            "Get:4 http://archive.ubuntu.com/ubuntu jammy/universe amd64 openbabel amd64 3.1.1+dfsg-6ubuntu5 [128 kB]\n",
            "Fetched 3,903 kB in 0s (18.6 MB/s)\n",
            "Selecting previously unselected package libinchi1.\n",
            "(Reading database ... 121666 files and directories currently installed.)\n",
            "Preparing to unpack .../libinchi1_1.03+dfsg-4_amd64.deb ...\n",
            "Unpacking libinchi1 (1.03+dfsg-4) ...\n",
            "Selecting previously unselected package libmaeparser1:amd64.\n",
            "Preparing to unpack .../libmaeparser1_1.2.4-1build1_amd64.deb ...\n",
            "Unpacking libmaeparser1:amd64 (1.2.4-1build1) ...\n",
            "Selecting previously unselected package libopenbabel7.\n",
            "Preparing to unpack .../libopenbabel7_3.1.1+dfsg-6ubuntu5_amd64.deb ...\n",
            "Unpacking libopenbabel7 (3.1.1+dfsg-6ubuntu5) ...\n",
            "Selecting previously unselected package openbabel.\n",
            "Preparing to unpack .../openbabel_3.1.1+dfsg-6ubuntu5_amd64.deb ...\n",
            "Unpacking openbabel (3.1.1+dfsg-6ubuntu5) ...\n",
            "Setting up libmaeparser1:amd64 (1.2.4-1build1) ...\n",
            "Setting up libinchi1 (1.03+dfsg-4) ...\n",
            "Setting up libopenbabel7 (3.1.1+dfsg-6ubuntu5) ...\n",
            "Setting up openbabel (3.1.1+dfsg-6ubuntu5) ...\n",
            "Processing triggers for libc-bin (2.35-0ubuntu3.4) ...\n",
            "/sbin/ldconfig.real: /usr/local/lib/libtbbmalloc_proxy.so.2 is not a symbolic link\n",
            "\n",
            "/sbin/ldconfig.real: /usr/local/lib/libtbbbind_2_5.so.3 is not a symbolic link\n",
            "\n",
            "/sbin/ldconfig.real: /usr/local/lib/libtbbbind.so.3 is not a symbolic link\n",
            "\n",
            "/sbin/ldconfig.real: /usr/local/lib/libtbb.so.12 is not a symbolic link\n",
            "\n",
            "/sbin/ldconfig.real: /usr/local/lib/libtbbmalloc.so.2 is not a symbolic link\n",
            "\n",
            "/sbin/ldconfig.real: /usr/local/lib/libtbbbind_2_0.so.3 is not a symbolic link\n",
            "\n",
            "Processing triggers for man-db (2.10.2-1) ...\n"
          ]
        }
      ]
    },
    {
      "cell_type": "markdown",
      "source": [
        "**Command to add explisit hydrogen**"
      ],
      "metadata": {
        "id": "j3Jm0on05HcX"
      }
    },
    {
      "cell_type": "code",
      "source": [
        "!obabel lig.sdf -h -O lig_H.sdf"
      ],
      "metadata": {
        "colab": {
          "base_uri": "https://localhost:8080/"
        },
        "id": "WrqZFV6N5G7O",
        "outputId": "57bf54fc-bea2-4767-eac2-2fed321af956"
      },
      "execution_count": 15,
      "outputs": [
        {
          "output_type": "stream",
          "name": "stdout",
          "text": [
            "1 molecule converted\n"
          ]
        }
      ]
    },
    {
      "cell_type": "code",
      "source": [
        "import meeko, rdkit\n",
        "from rdkit import Chem\n",
        "from rdkit.Chem import rdmolops\n",
        "from meeko import MoleculePreparation\n",
        "from meeko import PDBQTWriterLegacy\n",
        "\n",
        "# referece: https://gist.github.com/greglandrum/7f546d1e35c2df537c68a64d887793b8\n",
        "def add_formal_charges(m):\n",
        "    m.UpdatePropertyCache(strict=False)\n",
        "    for at in m.GetAtoms():\n",
        "        # [O-]\n",
        "        if at.GetAtomicNum() in [8] and at.GetExplicitValence()==1 and at.GetFormalCharge()==0:\n",
        "            at.SetFormalCharge(-1)\n",
        "\n",
        "AH_from_sdf = Chem.SDMolSupplier('/content/lig_H.sdf', removeHs=False)[0]\n",
        "print(\"Formal Charge from Input:\", rdmolops.GetFormalCharge(AH_from_sdf)) # will get -42\n",
        "\n",
        "# Correct charge and update valence properties\n",
        "add_formal_charges(AH_from_sdf)\n",
        "AH_from_sdf.UpdatePropertyCache(strict=False)\n",
        "\n",
        "print(\"Formal Charge after Correction:\", rdmolops.GetFormalCharge(AH_from_sdf)) # will get -44\n",
        "\n",
        "# Generate ligand pdbqt string\n",
        "preparator = MoleculePreparation()\n",
        "mol_setups = preparator.prepare(AH_from_sdf)\n",
        "for setup in mol_setups:\n",
        "    pdbqt_string = PDBQTWriterLegacy.write_string(setup)[0]\n",
        "\n",
        "# Write pdbqt string to file\n",
        "with open('lig.pdbqt','w') as fw:\n",
        "    for line in pdbqt_string:\n",
        "        fw.write(line)"
      ],
      "metadata": {
        "colab": {
          "base_uri": "https://localhost:8080/"
        },
        "id": "USylfKs3mcpj",
        "outputId": "c7263a34-4118-455a-ad1e-8e42dab3d733"
      },
      "execution_count": 16,
      "outputs": [
        {
          "output_type": "stream",
          "name": "stdout",
          "text": [
            "Formal Charge from Input: 0\n",
            "Formal Charge after Correction: 0\n"
          ]
        }
      ]
    },
    {
      "cell_type": "code",
      "source": [
        "!mk_prepare_ligand.py"
      ],
      "metadata": {
        "colab": {
          "base_uri": "https://localhost:8080/"
        },
        "id": "0VPDJV58fHur",
        "outputId": "d941cc33-8b1b-49ee-f0d0-5d73b0520a21"
      },
      "execution_count": null,
      "outputs": [
        {
          "output_type": "stream",
          "name": "stdout",
          "text": [
            "usage: mk_prepare_ligand.py [-h] [-v] -i INPUT_MOLECULE_FILENAME [-o OUTPUT_PDBQT_FILENAME]\n",
            "                            [--multimol_outdir MULTIMOL_OUTPUT_DIR]\n",
            "                            [--multimol_prefix MULTIMOL_PREFIX] [-] [-c CONFIG_FILE]\n",
            "                            [--rigid_macrocycles] [--keep_chorded_rings] [--keep_equivalent_rings]\n",
            "                            [--min_ring_size MIN_RING_SIZE] [-w]\n",
            "                            [--merge_these_atom_types [MERGE_THESE_ATOM_TYPES ...]] [-r SMARTS]\n",
            "                            [-b i j [i j ...]] [-a] [-p ATOM_TYPE_SMARTS_JSON]\n",
            "                            [-aa [{'smarts': '<smarts pattern>', 'atype': ',atomtype name>'}, {'smarts': '<smarts pattern>', 'atype': ',atomtype name>'}]]\n",
            "                            [--double_bond_penalty DOUBLE_BOND_PENALTY] [--bad_charge_ok]\n",
            "                            [--add_index_map] [--remove_smiles]\n",
            "                            [--reactive_smarts REACTIVE_SMARTS]\n",
            "                            [--reactive_smarts_idx REACTIVE_SMARTS_IDX] [--receptor RECEPTOR]\n",
            "                            [--rec_residue REC_RESIDUE] [--tether_smarts TETHER_SMARTS]\n",
            "                            [--tether_smarts_indices IDX IDX]\n",
            "mk_prepare_ligand.py: error: the following arguments are required: -i/--mol\n"
          ]
        }
      ]
    },
    {
      "cell_type": "code",
      "source": [
        "!mk_prepare_receptor.py"
      ],
      "metadata": {
        "colab": {
          "base_uri": "https://localhost:8080/"
        },
        "id": "Y7mGt_m069Se",
        "outputId": "ac75ffe5-85bf-4194-a6d2-35f33af8c82d"
      },
      "execution_count": 18,
      "outputs": [
        {
          "output_type": "stream",
          "name": "stderr",
          "text": [
            "/usr/local/lib/python3.10/dist-packages/ipykernel/ipkernel.py:283: DeprecationWarning: `should_run_async` will not call `transform_cell` automatically in the future. Please pass the result to `transformed_cell` argument and any exception that happen during thetransform in `preprocessing_exc_tuple` in IPython 7.17 and above.\n",
            "  and should_run_async(code)\n"
          ]
        },
        {
          "output_type": "stream",
          "name": "stdout",
          "text": [
            "usage: mk_prepare_receptor.py [-h] [--pdb PDB] [--pdbqt PDBQT] -o OUTPUT_FILENAME [-f FLEXRES]\n",
            "                              [-r REACTIVE_FLEXRES] [-g REACTIVE_NAME] [-s REACTIVE_NAME_SPECIFIC]\n",
            "                              [--box_size BOX_SIZE BOX_SIZE BOX_SIZE]\n",
            "                              [--box_center BOX_CENTER BOX_CENTER BOX_CENTER]\n",
            "                              [--box_center_on_reactive_res] [--ligand LIGAND] [--padding PADDING]\n",
            "                              [--skip_gpf] [--r_eq_12 R_EQ_12] [--eps_12 EPS_12]\n",
            "                              [--r_eq_13_scaling R_EQ_13_SCALING]\n",
            "                              [--r_eq_14_scaling R_EQ_14_SCALING]\n",
            "\n",
            "options:\n",
            "  -h, --help            show this help message and exit\n",
            "  --pdb PDB             input can be PDBQT but charges and types will be reassigned\n",
            "  --pdbqt PDBQT         keeps existing charges and types\n",
            "  -o OUTPUT_FILENAME, --output_filename OUTPUT_FILENAME\n",
            "                        adds _rigid/_flex with flexible residues. Always suffixes .pdbqt.\n",
            "  -f FLEXRES, --flexres FLEXRES\n",
            "                        repeat flag for each residue, e.g: -f \" :LYS:42\" -f \"B:TYR:23\" and keep\n",
            "                        space for empty chain\n",
            "  -r REACTIVE_FLEXRES, --reactive_flexres REACTIVE_FLEXRES\n",
            "                        same as --flexres but for reactive residues (max 8)\n",
            "  -g REACTIVE_NAME, --reactive_name REACTIVE_NAME\n",
            "                        set name of reactive atom of a residue type, e.g: -g 'TRP:NE1'. Overridden\n",
            "                        by --reactive_name_specific\n",
            "  -s REACTIVE_NAME_SPECIFIC, --reactive_name_specific REACTIVE_NAME_SPECIFIC\n",
            "                        set name of reactive atom for an individual residue, e.g: -s\n",
            "                        'A:HIE:42:NE2'. Residue will be reactive.\n",
            "  --box_size BOX_SIZE BOX_SIZE BOX_SIZE\n",
            "                        size of grid box (x, y, z) in Angstrom\n",
            "  --box_center BOX_CENTER BOX_CENTER BOX_CENTER\n",
            "                        center of grid box (x, y, z) in Angstrom\n",
            "  --box_center_on_reactive_res\n",
            "                        project center of grid box along CA-CB bond 5 A away from CB\n",
            "  --ligand LIGAND       PDBQT of reference ligand\n",
            "  --padding PADDING     padding around reference ligand [A]\n",
            "  --skip_gpf            do not write a GPF file for autogrid\n",
            "  --r_eq_12 R_EQ_12     r_eq for reactive atoms (1-2 interaction)\n",
            "  --eps_12 EPS_12       epsilon for reactive atoms (1-2 interaction)\n",
            "  --r_eq_13_scaling R_EQ_13_SCALING\n",
            "                        r_eq scaling for 1-3 interaction across reactive atoms\n",
            "  --r_eq_14_scaling R_EQ_14_SCALING\n",
            "                        r_eq scaling for 1-4 interaction across reactive atoms\n",
            "\n",
            "mk_prepare_receptor.py: error: the following arguments are required: -o/--output_filename\n"
          ]
        }
      ]
    }
  ]
}