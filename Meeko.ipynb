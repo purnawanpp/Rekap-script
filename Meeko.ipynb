{
  "nbformat": 4,
  "nbformat_minor": 0,
  "metadata": {
    "colab": {
      "provenance": [],
      "authorship_tag": "ABX9TyM4rV8Qi1i3c/mk2k2f5u0m",
      "include_colab_link": true
    },
    "kernelspec": {
      "name": "python3",
      "display_name": "Python 3"
    },
    "language_info": {
      "name": "python"
    }
  },
  "cells": [
    {
      "cell_type": "markdown",
      "metadata": {
        "id": "view-in-github",
        "colab_type": "text"
      },
      "source": [
        "<a href=\"https://colab.research.google.com/github/purnawanpp/Rekap-script/blob/main/Meeko.ipynb\" target=\"_parent\"><img src=\"https://colab.research.google.com/assets/colab-badge.svg\" alt=\"Open In Colab\"/></a>"
      ]
    },
    {
      "cell_type": "code",
      "source": [
        "!conda install -c conda-forge numpy scipy rdkit"
      ],
      "metadata": {
        "colab": {
          "base_uri": "https://localhost:8080/"
        },
        "id": "GL1xY79WHQjt",
        "outputId": "8ff65fa3-d1bc-40ab-a5a3-12473120658c"
      },
      "execution_count": 6,
      "outputs": [
        {
          "output_type": "stream",
          "name": "stdout",
          "text": [
            "Collecting package metadata (current_repodata.json): - \b\b\\ \b\b| \b\b/ \b\b- \b\b\\ \b\b| \b\b/ \b\b- \b\b\\ \b\b| \b\b/ \b\b- \b\b\\ \b\b| \b\b/ \b\b- \b\b\\ \b\b| \b\b/ \b\b- \b\b\\ \b\b| \b\b/ \b\b- \b\b\\ \b\b| \b\b/ \b\b- \b\b\\ \b\b| \b\b/ \b\b- \b\b\\ \b\b| \b\b/ \b\b- \b\b\\ \b\b| \b\b/ \b\b- \b\b\\ \b\b| \b\b/ \b\b- \b\b\\ \b\b| \b\b/ \b\b- \b\b\\ \b\b| \b\b/ \b\b- \b\b\\ \b\b| \b\b/ \b\b- \b\b\\ \b\b| \b\b/ \b\b- \b\b\\ \b\b| \b\b/ \b\b- \b\b\\ \b\b| \b\b/ \b\b- \b\b\\ \b\b| \b\b/ \b\b- \b\b\\ \b\b| \b\b/ \b\b- \b\b\\ \b\b| \b\b/ \b\b- \b\b\\ \b\b| \b\b/ \b\b- \b\b\\ \b\b| \b\b/ \b\b- \b\b\\ \b\b| \b\b/ \b\b- \b\b\\ \b\b| \b\b/ \b\b- \b\b\\ \b\b| \b\b/ \b\b- \b\b\\ \b\b| \b\b/ \b\b- \b\b\\ \b\b| \b\b/ \b\b- \b\b\\ \b\b| \b\b/ \b\b- \b\b\\ \b\b| \b\b/ \b\b- \b\b\\ \b\b| \b\b/ \b\b- \b\b\\ \b\b| \b\b/ \b\b- \b\b\\ \b\b| \b\b/ \b\b- \b\b\\ \b\b| \b\b/ \b\b- \b\b\\ \b\b| \b\b/ \b\b- \b\b\\ \b\b| \b\b/ \b\b- \b\b\\ \b\b| \b\b/ \b\b- \b\b\\ \b\b| \b\b/ \b\b- \b\b\\ \b\b| \b\b/ \b\b- \b\b\\ \b\b| \b\b/ \b\b- \b\b\\ \b\b| \b\b/ \b\b- \b\b\\ \b\b| \b\b/ \b\b- \b\b\\ \b\b| \b\b/ \b\b- \b\b\\ \b\b| \b\b/ \b\b- \b\b\\ \b\b| \b\b/ \b\b- \b\b\\ \b\b| \b\b/ \b\b- \b\b\\ \b\b| \b\b/ \b\b- \b\b\\ \b\b| \b\b/ \b\b- \b\b\\ \b\b| \b\b/ \b\b- \b\b\\ \b\b| \b\b/ \b\b- \b\b\\ \b\b| \b\b/ \b\b- \b\bdone\n",
            "Solving environment: | \b\b/ \b\b- \b\b\\ \b\b| \b\b/ \b\b- \b\b\\ \b\b| \b\b/ \b\b- \b\b\\ \b\b| \b\b/ \b\b- \b\b\\ \b\b| \b\b/ \b\b- \b\b\\ \b\b| \b\b/ \b\b- \b\b\\ \b\b| \b\b/ \b\b- \b\b\\ \b\b| \b\b/ \b\b- \b\b\\ \b\b| \b\b/ \b\b- \b\b\\ \b\b| \b\b/ \b\b- \b\b\\ \b\b| \b\b/ \b\b- \b\b\\ \b\b| \b\b/ \b\b- \b\b\\ \b\b| \b\b/ \b\b- \b\b\\ \b\b| \b\b/ \b\b- \b\b\\ \b\b| \b\b/ \b\b- \b\b\\ \b\b| \b\bdone\n",
            "\n",
            "## Package Plan ##\n",
            "\n",
            "  environment location: /usr/local\n",
            "\n",
            "  added / updated specs:\n",
            "    - numpy\n",
            "    - rdkit\n",
            "    - scipy\n",
            "\n",
            "\n",
            "The following packages will be downloaded:\n",
            "\n",
            "    package                    |            build\n",
            "    ---------------------------|-----------------\n",
            "    colorama-0.4.6             |     pyhd8ed1ab_0          25 KB  conda-forge\n",
            "    conda-23.1.0               |   py38h578d9bd_0         907 KB  conda-forge\n",
            "    platformdirs-3.1.0         |     pyhd8ed1ab_0          17 KB  conda-forge\n",
            "    pluggy-1.0.0               |     pyhd8ed1ab_5          16 KB  conda-forge\n",
            "    pooch-1.7.0                |     pyhd8ed1ab_0          49 KB  conda-forge\n",
            "    ruamel.yaml-0.17.21        |   py38h0a891b7_2         172 KB  conda-forge\n",
            "    ruamel.yaml.clib-0.2.7     |   py38h1de0b5d_1         143 KB  conda-forge\n",
            "    scipy-1.10.1               |   py38h10c12cc_0        23.6 MB  conda-forge\n",
            "    tqdm-4.65.0                |     pyhd8ed1ab_1          86 KB  conda-forge\n",
            "    ------------------------------------------------------------\n",
            "                                           Total:        24.9 MB\n",
            "\n",
            "The following NEW packages will be INSTALLED:\n",
            "\n",
            "  colorama           conda-forge/noarch::colorama-0.4.6-pyhd8ed1ab_0 None\n",
            "  platformdirs       conda-forge/noarch::platformdirs-3.1.0-pyhd8ed1ab_0 None\n",
            "  pluggy             conda-forge/noarch::pluggy-1.0.0-pyhd8ed1ab_5 None\n",
            "  pooch              conda-forge/noarch::pooch-1.7.0-pyhd8ed1ab_0 None\n",
            "  ruamel.yaml        conda-forge/linux-64::ruamel.yaml-0.17.21-py38h0a891b7_2 None\n",
            "  ruamel.yaml.clib   conda-forge/linux-64::ruamel.yaml.clib-0.2.7-py38h1de0b5d_1 None\n",
            "  scipy              conda-forge/linux-64::scipy-1.10.1-py38h10c12cc_0 None\n",
            "  tqdm               conda-forge/noarch::tqdm-4.65.0-pyhd8ed1ab_1 None\n",
            "\n",
            "The following packages will be UPDATED:\n",
            "\n",
            "  conda                               22.9.0-py38h578d9bd_2 --> 23.1.0-py38h578d9bd_0 None\n",
            "\n",
            "\n",
            "\n",
            "Downloading and Extracting Packages\n",
            "pooch-1.7.0          | 49 KB     | : 100% 1.0/1 [00:00<00:00,  5.17it/s]                \n",
            "pluggy-1.0.0         | 16 KB     | : 100% 1.0/1 [00:00<00:00, 11.43it/s]\n",
            "ruamel.yaml-0.17.21  | 172 KB    | : 100% 1.0/1 [00:00<00:00,  7.48it/s]\n",
            "colorama-0.4.6       | 25 KB     | : 100% 1.0/1 [00:00<00:00, 17.60it/s]\n",
            "platformdirs-3.1.0   | 17 KB     | : 100% 1.0/1 [00:00<00:00, 20.72it/s]\n",
            "ruamel.yaml.clib-0.2 | 143 KB    | : 100% 1.0/1 [00:00<00:00, 21.49it/s]\n",
            "scipy-1.10.1         | 23.6 MB   | : 100% 1.0/1 [00:02<00:00,  2.34s/it]               \n",
            "tqdm-4.65.0          | 86 KB     | : 100% 1.0/1 [00:00<00:00,  9.79it/s]\n",
            "conda-23.1.0         | 907 KB    | : 100% 1.0/1 [00:00<00:00,  2.86it/s]\n",
            "Preparing transaction: - \b\b\\ \b\b| \b\bdone\n",
            "Verifying transaction: - \b\b\\ \b\b| \b\b/ \b\b- \b\bdone\n",
            "Executing transaction: | \b\b/ \b\b- \b\b\\ \b\b| \b\b/ \b\b- \b\b\\ \b\b| \b\b/ \b\b- \b\b\\ \b\b| \b\b/ \b\b- \b\b\\ \b\b| \b\b/ \b\b- \b\b\\ \b\b| \b\b/ \b\b- \b\b\\ \b\b| \b\bdone\n",
            "Retrieving notices: ...working... done\n"
          ]
        }
      ]
    },
    {
      "cell_type": "code",
      "source": [
        "!pip install meeko"
      ],
      "metadata": {
        "colab": {
          "base_uri": "https://localhost:8080/"
        },
        "id": "O_Q5THQMIdVx",
        "outputId": "8939f220-c468-4c32-d278-e46d6bf16d3b"
      },
      "execution_count": 7,
      "outputs": [
        {
          "output_type": "stream",
          "name": "stdout",
          "text": [
            "Looking in indexes: https://pypi.org/simple, https://us-python.pkg.dev/colab-wheels/public/simple/\n",
            "Requirement already satisfied: meeko in /usr/local/lib/python3.8/site-packages (0.4.0)\n",
            "Requirement already satisfied: numpy>=1.18 in /usr/local/lib/python3.8/site-packages (from meeko) (1.24.2)\n",
            "\u001b[33mWARNING: Running pip as the 'root' user can result in broken permissions and conflicting behaviour with the system package manager. It is recommended to use a virtual environment instead: https://pip.pypa.io/warnings/venv\u001b[0m\u001b[33m\n",
            "\u001b[0m"
          ]
        }
      ]
    },
    {
      "cell_type": "code",
      "source": [
        "!python /usr/local/bin/mk_prepare_ligand.py"
      ],
      "metadata": {
        "colab": {
          "base_uri": "https://localhost:8080/"
        },
        "id": "t4iiaxBrItW7",
        "outputId": "6c70f02f-7a2d-4db5-a7f4-461ebd90fcbb"
      },
      "execution_count": 8,
      "outputs": [
        {
          "output_type": "stream",
          "name": "stdout",
          "text": [
            "usage: mk_prepare_ligand.py\n",
            "       [-h]\n",
            "       [-v]\n",
            "       -i\n",
            "       INPUT_MOLECULE_FILENAME\n",
            "       [-o OUTPUT_PDBQT_FILENAME]\n",
            "       [--multimol_outdir MULTIMOL_OUTPUT_DIR]\n",
            "       [--multimol_prefix MULTIMOL_PREFIX]\n",
            "       [-]\n",
            "       [-c CONFIG_FILE]\n",
            "       [--rigid_macrocycles]\n",
            "       [--keep_chorded_rings]\n",
            "       [--keep_equivalent_rings]\n",
            "       [-w]\n",
            "       [--keep_nonpolar_hydrogens]\n",
            "       [-r SMARTS]\n",
            "       [-b i j [i j ...]]\n",
            "       [-a]\n",
            "       [-p ATOM_TYPE_SMARTS_JSON]\n",
            "       [--double_bond_penalty DOUBLE_BOND_PENALTY]\n",
            "       [--add_index_map]\n",
            "       [--remove_smiles]\n",
            "       [--receptor RECEPTOR]\n",
            "       [--rec_residue REC_RESIDUE]\n",
            "       [--tether_smarts TETHER_SMARTS]\n",
            "       [--tether_smarts_indices IDX IDX]\n",
            "mk_prepare_ligand.py: error: the following arguments are required: -i/--mol\n"
          ]
        }
      ]
    },
    {
      "cell_type": "code",
      "source": [
        "!mk_prepare_ligand.py"
      ],
      "metadata": {
        "colab": {
          "base_uri": "https://localhost:8080/"
        },
        "id": "RyM06rbWI2R-",
        "outputId": "8e8e54ea-8622-42a6-ebc5-f0176b242dd1"
      },
      "execution_count": 10,
      "outputs": [
        {
          "output_type": "stream",
          "name": "stdout",
          "text": [
            "usage: mk_prepare_ligand.py\n",
            "       [-h]\n",
            "       [-v]\n",
            "       -i\n",
            "       INPUT_MOLECULE_FILENAME\n",
            "       [-o OUTPUT_PDBQT_FILENAME]\n",
            "       [--multimol_outdir MULTIMOL_OUTPUT_DIR]\n",
            "       [--multimol_prefix MULTIMOL_PREFIX]\n",
            "       [-]\n",
            "       [-c CONFIG_FILE]\n",
            "       [--rigid_macrocycles]\n",
            "       [--keep_chorded_rings]\n",
            "       [--keep_equivalent_rings]\n",
            "       [-w]\n",
            "       [--keep_nonpolar_hydrogens]\n",
            "       [-r SMARTS]\n",
            "       [-b i j [i j ...]]\n",
            "       [-a]\n",
            "       [-p ATOM_TYPE_SMARTS_JSON]\n",
            "       [--double_bond_penalty DOUBLE_BOND_PENALTY]\n",
            "       [--add_index_map]\n",
            "       [--remove_smiles]\n",
            "       [--receptor RECEPTOR]\n",
            "       [--rec_residue REC_RESIDUE]\n",
            "       [--tether_smarts TETHER_SMARTS]\n",
            "       [--tether_smarts_indices IDX IDX]\n",
            "mk_prepare_ligand.py: error: the following arguments are required: -i/--mol\n"
          ]
        }
      ]
    },
    {
      "cell_type": "code",
      "source": [
        "!apt install openbabel"
      ],
      "metadata": {
        "colab": {
          "base_uri": "https://localhost:8080/"
        },
        "id": "jQTGdI73K0nJ",
        "outputId": "2135cf96-b7ef-435e-dafc-7feca1906780"
      },
      "execution_count": 20,
      "outputs": [
        {
          "output_type": "stream",
          "name": "stdout",
          "text": [
            "Reading package lists... Done\n",
            "Building dependency tree       \n",
            "Reading state information... Done\n",
            "The following additional packages will be installed:\n",
            "  libopenbabel6 libschroedinger-maeparser1\n",
            "The following NEW packages will be installed:\n",
            "  libopenbabel6 libschroedinger-maeparser1 openbabel\n",
            "0 upgraded, 3 newly installed, 0 to remove and 22 not upgraded.\n",
            "Need to get 3,784 kB of archives.\n",
            "After this operation, 17.9 MB of additional disk space will be used.\n",
            "Get:1 http://archive.ubuntu.com/ubuntu focal/universe amd64 libschroedinger-maeparser1 amd64 1.2.2-1build1 [89.1 kB]\n",
            "Get:2 http://archive.ubuntu.com/ubuntu focal/universe amd64 libopenbabel6 amd64 3.0.0+dfsg-3ubuntu3 [3,568 kB]\n",
            "Get:3 http://archive.ubuntu.com/ubuntu focal/universe amd64 openbabel amd64 3.0.0+dfsg-3ubuntu3 [127 kB]\n",
            "Fetched 3,784 kB in 1s (2,895 kB/s)\n",
            "Selecting previously unselected package libschroedinger-maeparser1:amd64.\n",
            "(Reading database ... 128215 files and directories currently installed.)\n",
            "Preparing to unpack .../libschroedinger-maeparser1_1.2.2-1build1_amd64.deb ...\n",
            "Unpacking libschroedinger-maeparser1:amd64 (1.2.2-1build1) ...\n",
            "Selecting previously unselected package libopenbabel6.\n",
            "Preparing to unpack .../libopenbabel6_3.0.0+dfsg-3ubuntu3_amd64.deb ...\n",
            "Unpacking libopenbabel6 (3.0.0+dfsg-3ubuntu3) ...\n",
            "Selecting previously unselected package openbabel.\n",
            "Preparing to unpack .../openbabel_3.0.0+dfsg-3ubuntu3_amd64.deb ...\n",
            "Unpacking openbabel (3.0.0+dfsg-3ubuntu3) ...\n",
            "Setting up libschroedinger-maeparser1:amd64 (1.2.2-1build1) ...\n",
            "Setting up libopenbabel6 (3.0.0+dfsg-3ubuntu3) ...\n",
            "Setting up openbabel (3.0.0+dfsg-3ubuntu3) ...\n",
            "Processing triggers for libc-bin (2.31-0ubuntu9.9) ...\n",
            "Processing triggers for man-db (2.9.1-1) ...\n"
          ]
        }
      ]
    },
    {
      "cell_type": "code",
      "source": [
        "!obabel /content/1iep_ligand.sdf -h -p -osdf -O lig_H.sdf"
      ],
      "metadata": {
        "colab": {
          "base_uri": "https://localhost:8080/"
        },
        "id": "D9sqE8v8M8pn",
        "outputId": "0b8434d1-8bb5-45ba-b10a-401a36e2815d"
      },
      "execution_count": 39,
      "outputs": [
        {
          "output_type": "stream",
          "name": "stdout",
          "text": [
            "==============================\n",
            "*** Open Babel Warning  in DoTransformations\n",
            "  Both -p and -h options are set. All implicit hydrogens (-h) will be added without considering pH.\n",
            "\n",
            "1 molecule converted\n"
          ]
        }
      ]
    },
    {
      "cell_type": "code",
      "source": [
        "!mk_prepare_ligand.py -i /content/lig_H.sdf -o lig_H.pdbqt"
      ],
      "metadata": {
        "id": "8OUtr59oMUQ8"
      },
      "execution_count": 40,
      "outputs": []
    }
  ]
}