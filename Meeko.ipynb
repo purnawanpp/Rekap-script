{
  "nbformat": 4,
  "nbformat_minor": 0,
  "metadata": {
    "colab": {
      "provenance": [],
      "authorship_tag": "ABX9TyMwVaAjpP78tNVogZEU3A2a",
      "include_colab_link": true
    },
    "kernelspec": {
      "name": "python3",
      "display_name": "Python 3"
    },
    "language_info": {
      "name": "python"
    }
  },
  "cells": [
    {
      "cell_type": "markdown",
      "metadata": {
        "id": "view-in-github",
        "colab_type": "text"
      },
      "source": [
        "<a href=\"https://colab.research.google.com/github/purnawanpp/Rekap-script/blob/main/Meeko.ipynb\" target=\"_parent\"><img src=\"https://colab.research.google.com/assets/colab-badge.svg\" alt=\"Open In Colab\"/></a>"
      ]
    },
    {
      "cell_type": "code",
      "source": [
        "pip install rdkit-pypi"
      ],
      "metadata": {
        "colab": {
          "base_uri": "https://localhost:8080/"
        },
        "id": "RMlzeiIfelu4",
        "outputId": "c3113706-89b7-445e-fc7a-51a255712e8a"
      },
      "execution_count": 5,
      "outputs": [
        {
          "output_type": "stream",
          "name": "stdout",
          "text": [
            "Collecting rdkit-pypi\n",
            "  Downloading rdkit_pypi-2022.9.5-cp310-cp310-manylinux_2_17_x86_64.manylinux2014_x86_64.whl (29.4 MB)\n",
            "\u001b[2K     \u001b[90m━━━━━━━━━━━━━━━━━━━━━━━━━━━━━━━━━━━━━━━━\u001b[0m \u001b[32m29.4/29.4 MB\u001b[0m \u001b[31m17.2 MB/s\u001b[0m eta \u001b[36m0:00:00\u001b[0m\n",
            "\u001b[?25hRequirement already satisfied: numpy in /usr/local/lib/python3.10/dist-packages (from rdkit-pypi) (1.23.5)\n",
            "Requirement already satisfied: Pillow in /usr/local/lib/python3.10/dist-packages (from rdkit-pypi) (9.4.0)\n",
            "Installing collected packages: rdkit-pypi\n",
            "Successfully installed rdkit-pypi-2022.9.5\n"
          ]
        }
      ]
    },
    {
      "cell_type": "code",
      "source": [
        "pip install meeko"
      ],
      "metadata": {
        "colab": {
          "base_uri": "https://localhost:8080/"
        },
        "id": "6Y2p82x_dv_i",
        "outputId": "825b70bc-12d5-462d-e92b-41fcd8acff4b"
      },
      "execution_count": 3,
      "outputs": [
        {
          "output_type": "stream",
          "name": "stdout",
          "text": [
            "Collecting meeko\n",
            "  Using cached meeko-0.5.0-py3-none-any.whl (144 kB)\n",
            "Requirement already satisfied: numpy>=1.18 in /usr/local/lib/python3.10/dist-packages (from meeko) (1.23.5)\n",
            "Installing collected packages: meeko\n",
            "Successfully installed meeko-0.5.0\n"
          ]
        }
      ]
    },
    {
      "cell_type": "code",
      "source": [
        "!mk_prepare_receptor.py"
      ],
      "metadata": {
        "colab": {
          "base_uri": "https://localhost:8080/"
        },
        "id": "ZIrPZwKvnZxG",
        "outputId": "38546ea5-2a9d-4864-826d-f09d3a61b129"
      },
      "execution_count": 49,
      "outputs": [
        {
          "output_type": "stream",
          "name": "stdout",
          "text": [
            "Command line error: missing center or size of grid box to write .gpf file for autogrid4\n",
            "use --box_size and either --box_center or --box_center_on_reactive_res\n",
            "or --ligand and --padding\n",
            "Exactly one reactive residue required for --box_center_on_reactive_res\n",
            "If a GPF file is not needed (e.g. docking with Vina scoring function) use option --skip_gpf\n"
          ]
        }
      ]
    },
    {
      "cell_type": "code",
      "source": [
        "!python --version"
      ],
      "metadata": {
        "colab": {
          "base_uri": "https://localhost:8080/"
        },
        "id": "HE2x4QXAqwIW",
        "outputId": "da7c053f-8c25-4d27-9997-2be766abac2b"
      },
      "execution_count": 61,
      "outputs": [
        {
          "output_type": "stream",
          "name": "stdout",
          "text": [
            "Python 3.10.12\n"
          ]
        },
        {
          "output_type": "stream",
          "name": "stderr",
          "text": [
            "/usr/local/lib/python3.10/dist-packages/ipykernel/ipkernel.py:283: DeprecationWarning: `should_run_async` will not call `transform_cell` automatically in the future. Please pass the result to `transformed_cell` argument and any exception that happen during thetransform in `preprocessing_exc_tuple` in IPython 7.17 and above.\n",
            "  and should_run_async(code)\n"
          ]
        }
      ]
    },
    {
      "cell_type": "code",
      "source": [
        "!mk_prepare_ligand.py -i lig.sdf -o lig.pdbqt"
      ],
      "metadata": {
        "colab": {
          "base_uri": "https://localhost:8080/"
        },
        "id": "B7MBTVB0eByk",
        "outputId": "3f43a968-b667-49d0-e144-9f6413e6eef0"
      },
      "execution_count": 60,
      "outputs": [
        {
          "output_type": "stream",
          "name": "stderr",
          "text": [
            "/usr/local/lib/python3.10/dist-packages/ipykernel/ipkernel.py:283: DeprecationWarning: `should_run_async` will not call `transform_cell` automatically in the future. Please pass the result to `transformed_cell` argument and any exception that happen during thetransform in `preprocessing_exc_tuple` in IPython 7.17 and above.\n",
            "  and should_run_async(code)\n"
          ]
        },
        {
          "output_type": "stream",
          "name": "stdout",
          "text": [
            "molecule has implicit hydrogens (name=lig.pdb)\n",
            "\n"
          ]
        }
      ]
    },
    {
      "cell_type": "code",
      "source": [
        "!mk_prepare_ligand.py"
      ],
      "metadata": {
        "colab": {
          "base_uri": "https://localhost:8080/"
        },
        "id": "0VPDJV58fHur",
        "outputId": "d941cc33-8b1b-49ee-f0d0-5d73b0520a21"
      },
      "execution_count": 9,
      "outputs": [
        {
          "output_type": "stream",
          "name": "stdout",
          "text": [
            "usage: mk_prepare_ligand.py [-h] [-v] -i INPUT_MOLECULE_FILENAME [-o OUTPUT_PDBQT_FILENAME]\n",
            "                            [--multimol_outdir MULTIMOL_OUTPUT_DIR]\n",
            "                            [--multimol_prefix MULTIMOL_PREFIX] [-] [-c CONFIG_FILE]\n",
            "                            [--rigid_macrocycles] [--keep_chorded_rings] [--keep_equivalent_rings]\n",
            "                            [--min_ring_size MIN_RING_SIZE] [-w]\n",
            "                            [--merge_these_atom_types [MERGE_THESE_ATOM_TYPES ...]] [-r SMARTS]\n",
            "                            [-b i j [i j ...]] [-a] [-p ATOM_TYPE_SMARTS_JSON]\n",
            "                            [-aa [{'smarts': '<smarts pattern>', 'atype': ',atomtype name>'}, {'smarts': '<smarts pattern>', 'atype': ',atomtype name>'}]]\n",
            "                            [--double_bond_penalty DOUBLE_BOND_PENALTY] [--bad_charge_ok]\n",
            "                            [--add_index_map] [--remove_smiles]\n",
            "                            [--reactive_smarts REACTIVE_SMARTS]\n",
            "                            [--reactive_smarts_idx REACTIVE_SMARTS_IDX] [--receptor RECEPTOR]\n",
            "                            [--rec_residue REC_RESIDUE] [--tether_smarts TETHER_SMARTS]\n",
            "                            [--tether_smarts_indices IDX IDX]\n",
            "mk_prepare_ligand.py: error: the following arguments are required: -i/--mol\n"
          ]
        }
      ]
    }
  ]
}