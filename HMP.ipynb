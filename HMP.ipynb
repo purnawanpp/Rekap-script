{
  "cells": [
    {
      "cell_type": "markdown",
      "metadata": {
        "id": "view-in-github",
        "colab_type": "text"
      },
      "source": [
        "<a href=\"https://colab.research.google.com/github/purnawanpp/Rekap-script/blob/main/HMP.ipynb\" target=\"_parent\"><img src=\"https://colab.research.google.com/assets/colab-badge.svg\" alt=\"Open In Colab\"/></a>"
      ]
    },
    {
      "cell_type": "markdown",
      "source": [
        "Hydrogen Mass Repartitioning"
      ],
      "metadata": {
        "id": "nCf3Lkr9mPs5"
      },
      "id": "nCf3Lkr9mPs5"
    },
    {
      "cell_type": "code",
      "source": [
        "!pip install parmed"
      ],
      "metadata": {
        "id": "hQta60dmkOnQ",
        "outputId": "c8c69fab-5ed3-4b71-fc97-f1d6b1512653",
        "colab": {
          "base_uri": "https://localhost:8080/"
        }
      },
      "id": "hQta60dmkOnQ",
      "execution_count": 1,
      "outputs": [
        {
          "output_type": "stream",
          "name": "stdout",
          "text": [
            "Looking in indexes: https://pypi.org/simple, https://us-python.pkg.dev/colab-wheels/public/simple/\n",
            "Collecting parmed\n",
            "  Downloading ParmEd-4.0.0.tar.gz (2.3 MB)\n",
            "\u001b[2K     \u001b[90m━━━━━━━━━━━━━━━━━━━━━━━━━━━━━━━━━━━━━━━━\u001b[0m \u001b[32m2.3/2.3 MB\u001b[0m \u001b[31m24.7 MB/s\u001b[0m eta \u001b[36m0:00:00\u001b[0m\n",
            "\u001b[?25h  Preparing metadata (setup.py) ... \u001b[?25l\u001b[?25hdone\n",
            "Building wheels for collected packages: parmed\n",
            "  Building wheel for parmed (setup.py) ... \u001b[?25l\u001b[?25hdone\n",
            "  Created wheel for parmed: filename=ParmEd-4.0.0-cp38-cp38-linux_x86_64.whl size=1535917 sha256=14198be1bed577f69a2cfd674498e33364bbaba915f1f729cbdf97b2519b3ea0\n",
            "  Stored in directory: /root/.cache/pip/wheels/18/7a/fc/4a54030c3ce8b744ff314719c22fe49895b9a6837014d0087b\n",
            "Successfully built parmed\n",
            "Installing collected packages: parmed\n",
            "Successfully installed parmed-4.0.0\n"
          ]
        }
      ]
    },
    {
      "cell_type": "code",
      "execution_count": null,
      "id": "1ede9e52",
      "metadata": {
        "id": "1ede9e52"
      },
      "outputs": [],
      "source": [
        "import parmed as pmd\n",
        "#amber = pmd.load_file('prmtop', 'inpcrd'), dibawah ini adalah perintah untuk meload file dengan format amber\n",
        "amber = pmd.load_file('/content/solvated.prmtop', '/content/solvated.inpcrd')\n",
        "# Perintah berikut untuk melakukan hydrogen mass repartitioning\n",
        "system.HMassFloat = 0.25\n",
        "#save a GROMACS topology and GRO file, dibawah ini adalah perintah untuk menyimpan file dalam format gromacs\n",
        "amber.save('gromacs.top')\n",
        "amber.save('gromacs.gro')\n"
      ]
    },
    {
      "cell_type": "code",
      "source": [
        "import parmed as pmd\n",
        "\n",
        "print(pmd.__version__)"
      ],
      "metadata": {
        "colab": {
          "base_uri": "https://localhost:8080/"
        },
        "id": "tLZIvwW_gaWp",
        "outputId": "0a99016b-6b37-414d-f961-a1a023ddbcf9"
      },
      "id": "tLZIvwW_gaWp",
      "execution_count": 12,
      "outputs": [
        {
          "output_type": "stream",
          "name": "stdout",
          "text": [
            "4.0.0\n"
          ]
        }
      ]
    },
    {
      "cell_type": "code",
      "source": [
        "import parmed as pmd\n",
        "from parmed import tools\n",
        "#amber = pmd.load_file('prmtop', 'inpcrd'), dibawah ini adalah perintah untuk meload file dengan format amber\n",
        "amber = pmd.load_file('/content/solvated.prmtop', '/content/solvated.inpcrd')\n",
        "# Perintah berikut untuk melakukan hydrogen mass repartitioning\n",
        "parmed.tools.actions.HMassRepartition(amber)\n",
        "#save a GROMACS topology and GRO file, dibawah ini adalah perintah untuk menyimpan file dalam format gromacs\n",
        "amber.save('gromacs.top')\n",
        "amber.save('gromacs.gro')"
      ],
      "metadata": {
        "id": "bJC1NodRbkgg"
      },
      "id": "bJC1NodRbkgg",
      "execution_count": 15,
      "outputs": []
    }
  ],
  "metadata": {
    "kernelspec": {
      "display_name": "Python 3 (ipykernel)",
      "language": "python",
      "name": "python3"
    },
    "language_info": {
      "codemirror_mode": {
        "name": "ipython",
        "version": 3
      },
      "file_extension": ".py",
      "mimetype": "text/x-python",
      "name": "python",
      "nbconvert_exporter": "python",
      "pygments_lexer": "ipython3",
      "version": "3.9.13"
    },
    "colab": {
      "provenance": [],
      "include_colab_link": true
    }
  },
  "nbformat": 4,
  "nbformat_minor": 5
}