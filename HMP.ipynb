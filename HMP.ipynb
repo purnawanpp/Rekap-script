{
  "cells": [
    {
      "cell_type": "markdown",
      "metadata": {
        "id": "view-in-github",
        "colab_type": "text"
      },
      "source": [
        "<a href=\"https://colab.research.google.com/github/purnawanpp/Rekap-script/blob/main/HMP.ipynb\" target=\"_parent\"><img src=\"https://colab.research.google.com/assets/colab-badge.svg\" alt=\"Open In Colab\"/></a>"
      ]
    },
    {
      "cell_type": "markdown",
      "source": [
        "Hydrogen Mass Repartitioning"
      ],
      "metadata": {
        "id": "nCf3Lkr9mPs5"
      },
      "id": "nCf3Lkr9mPs5"
    },
    {
      "cell_type": "code",
      "source": [
        "!pip install parmed"
      ],
      "metadata": {
        "id": "hQta60dmkOnQ",
        "outputId": "6e57fd8f-09bd-496c-f8cc-70a34be98787",
        "colab": {
          "base_uri": "https://localhost:8080/"
        }
      },
      "id": "hQta60dmkOnQ",
      "execution_count": 5,
      "outputs": [
        {
          "output_type": "stream",
          "name": "stdout",
          "text": [
            "Looking in indexes: https://pypi.org/simple, https://us-python.pkg.dev/colab-wheels/public/simple/\n",
            "Requirement already satisfied: parmed in /usr/local/lib/python3.8/dist-packages (4.0.0)\n"
          ]
        }
      ]
    },
    {
      "cell_type": "code",
      "source": [
        "import parmed as pmd\n",
        "\n",
        "print(pmd.__version__)"
      ],
      "metadata": {
        "colab": {
          "base_uri": "https://localhost:8080/"
        },
        "id": "tLZIvwW_gaWp",
        "outputId": "42d44004-74d8-4c72-8c34-23caf86583fd"
      },
      "id": "tLZIvwW_gaWp",
      "execution_count": 2,
      "outputs": [
        {
          "output_type": "stream",
          "name": "stdout",
          "text": [
            "4.0.0\n"
          ]
        }
      ]
    },
    {
      "cell_type": "code",
      "source": [
        "import parmed as pmd\n",
        "from parmed import tools\n",
        "amber = pmd.load_file('/content/solvated.prmtop', '/content/solvated.inpcrd')\n",
        "# Perintah berikut untuk melakukan hydrogen mass repartitioning\n",
        "pmd.tools.actions.HMassRepartition(amber)\n",
        "amber.save('gromacs.top')\n",
        "amber.save('gromacs.gro')"
      ],
      "metadata": {
        "id": "bJC1NodRbkgg"
      },
      "id": "bJC1NodRbkgg",
      "execution_count": 10,
      "outputs": []
    }
  ],
  "metadata": {
    "kernelspec": {
      "display_name": "Python 3 (ipykernel)",
      "language": "python",
      "name": "python3"
    },
    "language_info": {
      "codemirror_mode": {
        "name": "ipython",
        "version": 3
      },
      "file_extension": ".py",
      "mimetype": "text/x-python",
      "name": "python",
      "nbconvert_exporter": "python",
      "pygments_lexer": "ipython3",
      "version": "3.9.13"
    },
    "colab": {
      "provenance": [],
      "include_colab_link": true
    }
  },
  "nbformat": 4,
  "nbformat_minor": 5
}